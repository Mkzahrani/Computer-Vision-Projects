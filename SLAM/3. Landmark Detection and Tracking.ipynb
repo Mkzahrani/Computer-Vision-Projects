{
 "cells": [
  {
   "cell_type": "markdown",
   "metadata": {},
   "source": [
    "# Project 3:  Implement SLAM \n",
    "\n",
    "---\n",
    "\n",
    "## Project Overview\n",
    "\n",
    "In this project, you'll implement SLAM for robot that moves and senses in a 2 dimensional, grid world!\n",
    "\n",
    "SLAM gives us a way to both localize a robot and build up a map of its environment as a robot moves and senses in real-time. This is an active area of research in the fields of robotics and autonomous systems. Since this localization and map-building relies on the visual sensing of landmarks, this is a computer vision problem. \n",
    "\n",
    "Using what you've learned about robot motion, representations of uncertainty in motion and sensing, and localization techniques, you will be tasked with defining a function, `slam`, which takes in six parameters as input and returns the vector `mu`. \n",
    "> `mu` contains the (x,y) coordinate locations of the robot as it moves, and the positions of landmarks that it senses in the world\n",
    "\n",
    "You can implement helper functions as you see fit, but your function must return `mu`. The vector, `mu`, should have (x, y) coordinates interlaced, for example, if there were 2 poses and 2 landmarks, `mu` will look like the following, where `P` is the robot position and `L` the landmark position:\n",
    "```\n",
    "mu =  matrix([[Px0],\n",
    "              [Py0],\n",
    "              [Px1],\n",
    "              [Py1],\n",
    "              [Lx0],\n",
    "              [Ly0],\n",
    "              [Lx1],\n",
    "              [Ly1]])\n",
    "```\n",
    "\n",
    "You can see that `mu` holds the poses first `(x0, y0), (x1, y1), ...,` then the landmark locations at the end of the matrix; we consider a `nx1` matrix to be a vector.\n",
    "\n",
    "## Generating an environment\n",
    "\n",
    "In a real SLAM problem, you may be given a map that contains information about landmark locations, and in this example, we will make our own data using the `make_data` function, which generates a world grid with landmarks in it and then generates data by placing a robot in that world and moving and sensing over some numer of time steps. The `make_data` function relies on a correct implementation of robot move/sense functions, which, at this point, should be complete and in the `robot_class.py` file. The data is collected as an instantiated robot moves and senses in a world. Your SLAM function will take in this data as input. So, let's first create this data and explore how it represents the movement and sensor measurements that our robot takes.\n",
    "\n",
    "---"
   ]
  },
  {
   "cell_type": "markdown",
   "metadata": {},
   "source": [
    "## Create the world\n",
    "\n",
    "Use the code below to generate a world of a specified size with randomly generated landmark locations. You can change these parameters and see how your implementation of SLAM responds! \n",
    "\n",
    "`data` holds the sensors measurements and motion of your robot over time. It stores the measurements as `data[i][0]` and the motion as `data[i][1]`.\n",
    "\n",
    "#### Helper functions\n",
    "\n",
    "You will be working with the `robot` class that may look familiar from the first notebook, \n",
    "\n",
    "In fact, in the `helpers.py` file, you can read the details of how data is made with the `make_data` function. It should look very similar to the robot move/sense cycle you've seen in the first notebook."
   ]
  },
  {
   "cell_type": "code",
   "execution_count": 1,
   "metadata": {},
   "outputs": [
    {
     "name": "stdout",
     "output_type": "stream",
     "text": [
      "('Landmarks:    ', 5)\n",
      " \n",
      "('Landmarks: ', [[56.0, 53.0], [42.0, 92.0], [26.0, 8.0], [57.0, 63.0], [91.0, 36.0]])\n",
      "Robot: [x=40.95850 y=41.10328]\n"
     ]
    }
   ],
   "source": [
    "import numpy as np\n",
    "from helpers import *\n",
    "\n",
    "# your implementation of slam should work with the following inputs\n",
    "# feel free to change these input values and see how it responds!\n",
    "\n",
    "# world parameters\n",
    "num_landmarks      = 5        # number of landmarks\n",
    "N                  = 20       # time steps\n",
    "world_size         = 100.0    # size of world (square)\n",
    "\n",
    "# robot parameters\n",
    "measurement_range  = 50.0     # range at which we can sense landmarks\n",
    "motion_noise       = 2.0      # noise in robot motion\n",
    "measurement_noise  = 2.0      # noise in the measurements\n",
    "distance           = 20.0     # distance by which robot (intends to) move each iteratation \n",
    "\n",
    "print(\"Landmarks:    \", num_landmarks)\n",
    "# make_data instantiates a robot, AND generates random landmarks for a given world size and number of landmarks\n",
    "data = make_data(N, num_landmarks, world_size, measurement_range, motion_noise, measurement_noise, distance)"
   ]
  },
  {
   "cell_type": "markdown",
   "metadata": {},
   "source": [
    "### A note on `make_data`\n",
    "\n",
    "The function above, `make_data`, takes in so many world and robot motion/sensor parameters because it is responsible for:\n",
    "1. Instantiating a robot (using the robot class)\n",
    "2. Creating a grid world with landmarks in it\n",
    "\n",
    "**This function also prints out the true location of landmarks and the *final* robot location, which you should refer back to when you test your implementation of SLAM.**\n",
    "\n",
    "The `data` this returns is an array that holds information about **robot sensor measurements** and **robot motion** `(dx, dy)` that is collected over a number of time steps, `N`. You will have to use *only* these readings about motion and measurements to track a robot over time and find the determine the location of the landmarks using SLAM. We only print out the true landmark locations for comparison, later.\n",
    "\n",
    "\n",
    "In `data` the measurement and motion data can be accessed from the first and second index in the columns of the data array. See the following code for an example, where `i` is the time step:\n",
    "```\n",
    "measurement = data[i][0]\n",
    "motion = data[i][1]\n",
    "```\n"
   ]
  },
  {
   "cell_type": "code",
   "execution_count": 2,
   "metadata": {},
   "outputs": [
    {
     "name": "stdout",
     "output_type": "stream",
     "text": [
      "('Example measurements: \\n', [[0, 6.524822934838449, 3.524822934838449], [1, -9.570596068246811, 40.429403931753185], [2, -22.217461156323395, -40.217461156323395], [3, 6.580566739441833, 12.580566739441833], [4, 39.17796334252152, -15.822036657478476]])\n",
      "\n",
      "\n",
      "('Example motion: \\n', [-4.531518647838175, -19.479870090539485])\n"
     ]
    }
   ],
   "source": [
    "# print out some stats about the data\n",
    "time_step = 0\n",
    "\n",
    "print('Example measurements: \\n', data[time_step][0])\n",
    "print('\\n')\n",
    "print('Example motion: \\n', data[time_step][1])"
   ]
  },
  {
   "cell_type": "markdown",
   "metadata": {},
   "source": [
    "Try changing the value of `time_step`, you should see that the list of measurements varies based on what in the world the robot sees after it moves. As you know from the first notebook, the robot can only sense so far and with a certain amount of accuracy in the measure of distance between its location and the location of landmarks. The motion of the robot always is a vector with two values: one for x and one for y displacement. This structure will be useful to keep in mind as you traverse this data in your implementation of slam."
   ]
  },
  {
   "cell_type": "markdown",
   "metadata": {},
   "source": [
    "## Initialize Constraints\n",
    "\n",
    "One of the most challenging tasks here will be to create and modify the constraint matrix and vector: omega and xi. In the second notebook, you saw an example of how omega and xi could hold all the values the define the relationships between robot poses `xi` and landmark positions `Li` in a 1D world, as seen below, where omega is the blue matrix and xi is the pink vector.\n",
    "\n",
    "<img src='images/motion_constraint.png' width=50% height=50% />\n",
    "\n",
    "\n",
    "In *this* project, you are tasked with implementing constraints for a 2D world. We are referring to robot poses as `Px, Py` and landmark positions as `Lx, Ly`, and one way to approach this challenge is to add *both* x and y locations in the constraint matrices.\n",
    "\n",
    "<img src='images/constraints2D.png' width=50% height=50% />\n",
    "\n",
    "You may also choose to create two of each omega and xi (one for x and one for y positions)."
   ]
  },
  {
   "cell_type": "markdown",
   "metadata": {},
   "source": [
    "### TODO: Write a function that initializes omega and xi\n",
    "\n",
    "Complete the function `initialize_constraints` so that it returns `omega` and `xi` constraints for the starting position of the robot. Any values that we do not yet know should be initialized with the value `0`. You may assume that our robot starts out in exactly the middle of the world with 100% confidence (no motion or measurement noise at this point). The inputs `N` time steps, `num_landmarks`, and `world_size` should give you all the information you need to construct intial constraints of the correct size and starting values.\n",
    "\n",
    "*Depending on your approach you may choose to return one omega and one xi that hold all (x,y) positions *or* two of each (one for x values and one for y); choose whichever makes most sense to you!*"
   ]
  },
  {
   "cell_type": "code",
   "execution_count": 3,
   "metadata": {},
   "outputs": [],
   "source": [
    "def initialize_constraints(N, num_landmarks, world_size):\n",
    "    ''' This function takes in a number of time steps N, number of landmarks, and a world_size,\n",
    "        and returns initialized constraint matrices, omega and xi.'''\n",
    "    \n",
    "    ## Recommended: Define and store the size (rows/cols) of the constraint matrix in a variable\n",
    "    rows = 2*(N+num_landmarks)\n",
    "    cols = 2*(N+num_landmarks)\n",
    "    \n",
    "    ## TODO: Define the constraint matrix, Omega, with two initial \"strength\" values\n",
    "    ## for the initial x, y location of our robot\n",
    "    omega = np.zeros((rows, cols))     #intializing the omega matrix - NxN matrix\n",
    "    xi = np.zeros((rows, 1))     #initializing the xi matrix - Nx1 matrix\n",
    "    \n",
    "    ## TODO: Define the constraint *vector*, xi\n",
    "    ## you can assume that the robot starts out in the middle of the world with 100% confidence\n",
    "    xi[0][0] = world_size / 2\n",
    "    xi[1][0] = world_size / 2\n",
    "    \n",
    "    print(\"Row:   \", rows,\"   \", cols)\n",
    "    \n",
    "    return omega, xi\n",
    "    "
   ]
  },
  {
   "cell_type": "markdown",
   "metadata": {},
   "source": [
    "### Test as you go\n",
    "\n",
    "It's good practice to test out your code, as you go. Since `slam` relies on creating and updating constraint matrices, `omega` and `xi` to account for robot sensor measurements and motion, let's check that they initialize as expected for any given parameters.\n",
    "\n",
    "Below, you'll find some test code that allows you to visualize the results of your function `initialize_constraints`. We are using the [seaborn](https://seaborn.pydata.org/) library for visualization.\n",
    "\n",
    "**Please change the test values of N, landmarks, and world_size and see the results**. Be careful not to use these values as input into your final smal function.\n",
    "\n",
    "This code assumes that you have created one of each constraint: `omega` and `xi`, but you can change and add to this code, accordingly. The constraints should vary in size with the number of time steps and landmarks as these values affect the number of poses a robot will take `(Px0,Py0,...Pxn,Pyn)` and landmark locations `(Lx0,Ly0,...Lxn,Lyn)` whose relationships should be tracked in the constraint matrices. Recall that `omega` holds the weights of each variable and `xi` holds the value of the sum of these variables, as seen in Notebook 2. You'll need the `world_size` to determine the starting pose of the robot in the world and fill in the initial values for `xi`."
   ]
  },
  {
   "cell_type": "code",
   "execution_count": 4,
   "metadata": {},
   "outputs": [],
   "source": [
    "# import data viz resources\n",
    "import matplotlib.pyplot as plt\n",
    "from pandas import DataFrame\n",
    "import seaborn as sns\n",
    "%matplotlib inline"
   ]
  },
  {
   "cell_type": "code",
   "execution_count": 5,
   "metadata": {},
   "outputs": [
    {
     "name": "stdout",
     "output_type": "stream",
     "text": [
      "('Row:   ', 14, '   ', 14)\n"
     ]
    }
   ],
   "source": [
    "# define a small N and world_size (small for ease of visualization)\n",
    "N_test = 5\n",
    "num_landmarks_test = 2\n",
    "small_world = 10\n",
    "\n",
    "# initialize the constraints\n",
    "initial_omega, initial_xi = initialize_constraints(N_test, num_landmarks_test, small_world)"
   ]
  },
  {
   "cell_type": "code",
   "execution_count": 6,
   "metadata": {},
   "outputs": [
    {
     "data": {
      "text/plain": [
       "<matplotlib.axes._subplots.AxesSubplot at 0x10fd22f50>"
      ]
     },
     "execution_count": 6,
     "metadata": {},
     "output_type": "execute_result"
    },
    {
     "data": {
      "image/png": "[encoded data removed]",
      "text/plain": [
       "<matplotlib.figure.Figure at 0x10f1a9450>"
      ]
     },
     "metadata": {},
     "output_type": "display_data"
    }
   ],
   "source": [
    "# define figure size\n",
    "plt.rcParams[\"figure.figsize\"] = (10,7)\n",
    "\n",
    "# display omega\n",
    "sns.heatmap(DataFrame(initial_omega), cmap='Blues', annot=True, linewidths=.5)"
   ]
  },
  {
   "cell_type": "code",
   "execution_count": 7,
   "metadata": {},
   "outputs": [
    {
     "data": {
      "text/plain": [
       "<matplotlib.axes._subplots.AxesSubplot at 0x11015f8d0>"
      ]
     },
     "execution_count": 7,
     "metadata": {},
     "output_type": "execute_result"
    },
    {
     "data": {
      "image/png": "[encoded data removed]",
      "text/plain": [
       "<matplotlib.figure.Figure at 0x10f144f10>"
      ]
     },
     "metadata": {},
     "output_type": "display_data"
    }
   ],
   "source": [
    "# define  figure size\n",
    "plt.rcParams[\"figure.figsize\"] = (1,7)\n",
    "\n",
    "# display xi\n",
    "sns.heatmap(DataFrame(initial_xi), cmap='Oranges', annot=True, linewidths=.5)"
   ]
  },
  {
   "cell_type": "markdown",
   "metadata": {},
   "source": [
    "---\n",
    "## SLAM inputs \n",
    "\n",
    "In addition to `data`, your slam function will also take in:\n",
    "* N -   The number of time steps that a robot will be moving and sensing\n",
    "* num_landmarks - The number of landmarks in the world\n",
    "* world_size - The size (w/h) of your world\n",
    "* motion_noise - The noise associated with motion; the update confidence for motion should be `1.0/motion_noise`\n",
    "* measurement_noise - The noise associated with measurement/sensing; the update weight for measurement should be `1.0/measurement_noise`\n",
    "\n",
    "#### A note on noise\n",
    "\n",
    "Recall that `omega` holds the relative \"strengths\" or weights for each position variable, and you can update these weights by accessing the correct index in omega `omega[row][col]` and *adding/subtracting* `1.0/noise` where `noise` is measurement or motion noise. `Xi` holds actual position values, and so to update `xi` you'll do a similar addition process only using the actual value of a motion or measurement. So for a vector index `xi[row][0]` you will end up adding/subtracting one measurement or motion divided by their respective `noise`.\n",
    "\n",
    "### TODO: Implement Graph SLAM\n",
    "\n",
    "Follow the TODO's below to help you complete this slam implementation (these TODO's are in the recommended order), then test out your implementation! \n",
    "\n",
    "#### Updating with motion and measurements\n",
    "\n",
    "With a 2D omega and xi structure as shown above (in earlier cells), you'll have to be mindful about how you update the values in these constraint matrices to account for motion and measurement constraints in the x and y directions. Recall that the solution to these matrices (which holds all values for robot poses `P` and landmark locations `L`) is the vector, `mu`, which can be computed at the end of the construction of omega and xi as the inverse of omega times xi: $\\mu = \\Omega^{-1}\\xi$\n",
    "\n",
    "**You may also choose to return the values of `omega` and `xi` if you want to visualize their final state!**"
   ]
  },
  {
   "cell_type": "code",
   "execution_count": 8,
   "metadata": {},
   "outputs": [],
   "source": [
    "## TODO: Complete the code to implement SLAM\n",
    "\n",
    "## slam takes in 6 arguments and returns mu, \n",
    "## mu is the entire path traversed by a robot (all x,y poses) *and* all landmarks locations\n",
    "def slam(data, N, num_landmarks, world_size, motion_noise, measurement_noise):\n",
    "    \n",
    "    ## TODO: Use your initilization to create constraint matrices, omega and xi\n",
    "    omega, xi = initialize_constraints(N, num_landmarks, world_size)\n",
    "    omega[0][0] = 1\n",
    "    omega[1][1] = 1\n",
    "    \n",
    "    ## TODO: Iterate through each time step in the data\n",
    "    ## get all the motion and measurement data as you iterate\n",
    "    \n",
    "    for i in range(0,N-1):\n",
    "        measurements = data[i][0]\n",
    "        motion = data[i][1]\n",
    "        \n",
    "        ## TODO: update the constraint matrix/vector to account for all *measurements*\n",
    "        ## this should be a series of additions that take into account the measurement noise\n",
    "        \n",
    "        for measure in measurements:\n",
    "            \n",
    "            print(\"Measure:   \", measure)\n",
    "            \n",
    "            index_of_landmark = measure[0]\n",
    "            \n",
    "            robot_pos = 2 * i\n",
    "            landmark_pos = 2 * (N + index_of_landmark)\n",
    "            \n",
    "            # Regulating the measurement with 1 / measurement_noise\n",
    "            for index in range(0,2):\n",
    "                omega[robot_pos + index,robot_pos + index] += 1/measurement_noise\n",
    "                omega[landmark_pos + index,landmark_pos + index] += 1/measurement_noise\n",
    "                omega[robot_pos+ index,landmark_pos + index] += -1 / measurement_noise\n",
    "                omega[landmark_pos+index,robot_pos+index] += -1/measurement_noise\n",
    "                \n",
    "                xi[robot_pos + index , 0] += -measure[index+1]/measurement_noise\n",
    "                xi[landmark_pos + index , 0] += measure[index+1]/measurement_noise\n",
    "            \n",
    "        ## TODO: update the constraint matrix/vector to account for all *motion* and motion noise\n",
    "        \n",
    "        # Regulating the measurement with 1 / motion_noise\n",
    "        for index in range(0,2):\n",
    "            omega[robot_pos+index, robot_pos+index] += 1/motion_noise\n",
    "            omega[robot_pos+index, robot_pos+index+2] += -1/motion_noise\n",
    "            omega[robot_pos+index+2, robot_pos+index] += -1/motion_noise \n",
    "            omega[robot_pos+index+2, robot_pos+index+2] += 1/motion_noise\n",
    "            \n",
    "        for index in range(0,2):\n",
    "            xi[robot_pos+index,0] += -motion[index] / motion_noise\n",
    "            xi[robot_pos+index+2,0] += motion[index] / motion_noise        \n",
    "    \n",
    "    ## TODO: After iterating through all the data\n",
    "    ## Compute the best estimate of poses and landmark positions\n",
    "    ## using the formula, omega_inverse * Xi\n",
    "    #print(\"Omega:   \", omega,\"   \", len(omega), \"    \", len(omega[0]))\n",
    "    \n",
    "    mu = np.dot(np.linalg.inv(omega), xi)\n",
    "    \n",
    "    return mu\n"
   ]
  },
  {
   "cell_type": "markdown",
   "metadata": {},
   "source": [
    "## Helper functions\n",
    "\n",
    "To check that your implementation of SLAM works for various inputs, we have provided two helper functions that will help display the estimated pose and landmark locations that your function has produced. First, given a result `mu` and number of time steps, `N`, we define a function that extracts the poses and landmarks locations and returns those as their own, separate lists. \n",
    "\n",
    "Then, we define a function that nicely print out these lists; both of these we will call, in the next step.\n"
   ]
  },
  {
   "cell_type": "code",
   "execution_count": 9,
   "metadata": {},
   "outputs": [],
   "source": [
    "# a helper function that creates a list of poses and of landmarks for ease of printing\n",
    "# this only works for the suggested constraint architecture of interlaced x,y poses\n",
    "def get_poses_landmarks(mu, N):\n",
    "    # create a list of poses\n",
    "    poses = []\n",
    "    for i in range(N):\n",
    "        poses.append((mu[2*i].item(), mu[2*i+1].item()))\n",
    "\n",
    "    # create a list of landmarks\n",
    "    landmarks = []\n",
    "    for i in range(num_landmarks):\n",
    "        landmarks.append((mu[2*(N+i)].item(), mu[2*(N+i)+1].item()))\n",
    "\n",
    "    # return completed lists\n",
    "    return poses, landmarks\n"
   ]
  },
  {
   "cell_type": "code",
   "execution_count": 10,
   "metadata": {},
   "outputs": [],
   "source": [
    "def print_all(poses, landmarks):\n",
    "    print('\\n')\n",
    "    print('Estimated Poses:')\n",
    "    for i in range(len(poses)):\n",
    "        print('['+', '.join('%.3f'%p for p in poses[i])+']')\n",
    "    print('\\n')\n",
    "    print('Estimated Landmarks:')\n",
    "    for i in range(len(landmarks)):\n",
    "        print('['+', '.join('%.3f'%l for l in landmarks[i])+']')\n"
   ]
  },
  {
   "cell_type": "markdown",
   "metadata": {},
   "source": [
    "## Run SLAM\n",
    "\n",
    "Once you've completed your implementation of `slam`, see what `mu` it returns for different world sizes and different landmarks!\n",
    "\n",
    "### What to Expect\n",
    "\n",
    "The `data` that is generated is random, but you did specify the number, `N`, or time steps that the robot was expected to move and the `num_landmarks` in the world (which your implementation of `slam` should see and estimate a position for. Your robot should also start with an estimated pose in the very center of your square world, whose size is defined by `world_size`.\n",
    "\n",
    "With these values in mind, you should expect to see a result that displays two lists:\n",
    "1. **Estimated poses**, a list of (x, y) pairs that is exactly `N` in length since this is how many motions your robot has taken. The very first pose should be the center of your world, i.e. `[50.000, 50.000]` for a world that is 100.0 in square size.\n",
    "2. **Estimated landmarks**, a list of landmark positions (x, y) that is exactly `num_landmarks` in length. \n",
    "\n",
    "#### Landmark Locations\n",
    "\n",
    "If you refer back to the printout of *exact* landmark locations when this data was created, you should see values that are very similar to those coordinates, but not quite (since `slam` must account for noise in motion and measurement)."
   ]
  },
  {
   "cell_type": "code",
   "execution_count": 11,
   "metadata": {},
   "outputs": [
    {
     "name": "stdout",
     "output_type": "stream",
     "text": [
      "('Row:   ', 50, '   ', 50)\n",
      "('Measure:   ', [0, 6.524822934838449, 3.524822934838449])\n",
      "('Measure:   ', [1, -9.570596068246811, 40.429403931753185])\n",
      "('Measure:   ', [2, -22.217461156323395, -40.217461156323395])\n",
      "('Measure:   ', [3, 6.580566739441833, 12.580566739441833])\n",
      "('Measure:   ', [4, 39.17796334252152, -15.822036657478476])\n",
      "('Measure:   ', [0, 10.740303086137722, 20.511323373043243])\n",
      "('Measure:   ', [2, -17.260758844926297, -22.489738558020775])\n",
      "('Measure:   ', [3, 13.74321595347429, 32.514236240379816])\n",
      "('Measure:   ', [4, 47.78884490057989, 5.559865187485408])\n",
      "('Measure:   ', [0, 15.96862462754174, 41.477756504029045])\n",
      "('Measure:   ', [2, -17.119121316640097, -6.609989440152794])\n",
      "('Measure:   ', [3, 13.925050165690159, 48.43418204217746])\n",
      "('Measure:   ', [0, 20.40439304389128, 20.39769350451981])\n",
      "('Measure:   ', [2, -11.427887503230405, -26.434587042601873])\n",
      "('Measure:   ', [3, 21.049596816805323, 30.042897277433855])\n",
      "('Measure:   ', [0, 26.865501200816706, 3.2752061192714996])\n",
      "('Measure:   ', [1, 12.46964016141706, 41.879345079871854])\n",
      "('Measure:   ', [2, -3.617961977527452, -42.20825705907266])\n",
      "('Measure:   ', [3, 24.526115480584036, 9.935820399038828])\n",
      "('Measure:   ', [0, 30.166231500225457, -17.27533294665506])\n",
      "('Measure:   ', [1, 15.163540136175165, 20.72197568929465])\n",
      "('Measure:   ', [2, 1.3627283602394455, -61.07883608664107])\n",
      "('Measure:   ', [3, 31.563017305860637, -6.878547141019881])\n",
      "('Measure:   ', [0, 35.89664514106371, -36.3244466832043])\n",
      "('Measure:   ', [1, 22.098248644066004, 2.8771568197979946])\n",
      "('Measure:   ', [2, 5.416128251771273, -81.80496357249673])\n",
      "('Measure:   ', [3, 33.88279435589628, -29.338297468371728])\n",
      "('Measure:   ', [0, 21.54446378578435, -22.291789341298838])\n",
      "('Measure:   ', [1, 6.601254022924559, 15.76500089584137])\n",
      "('Measure:   ', [2, -7.532479624600082, -66.36873275168327])\n",
      "('Measure:   ', [3, 21.781334680082125, -13.054918447001063])\n",
      "('Measure:   ', [0, 8.464378694865896, -6.5249641387240125])\n",
      "('Measure:   ', [1, -7.517948998843812, 30.49270816756628])\n",
      "('Measure:   ', [2, -23.680761803844845, -53.670104637434754])\n",
      "('Measure:   ', [3, 8.416926827276972, 2.427583993687064])\n",
      "('Measure:   ', [4, 41.76532306627372, -25.224019767316182])\n",
      "('Measure:   ', [0, -7.460203504276265, 7.950804193873729])\n",
      "('Measure:   ', [1, -19.540405743433098, 48.870601954716896])\n",
      "('Measure:   ', [2, -36.26995536594064, -35.858947667790645])\n",
      "('Measure:   ', [3, -2.7364575174556234, 21.67455018069437])\n",
      "('Measure:   ', [4, 31.150928477259313, -5.438063824590692])\n",
      "('Measure:   ', [0, -18.76127625379233, 25.9597260625722])\n",
      "('Measure:   ', [2, -47.61190239130937, -17.890900074944835])\n",
      "('Measure:   ', [3, -16.47370492206252, 37.24729739430201])\n",
      "('Measure:   ', [4, 16.746938407172838, 9.467940723537371])\n",
      "('Measure:   ', [0, -33.92031774014929, 39.49920011433141])\n",
      "('Measure:   ', [2, -62.05812166089418, -3.638603806413487])\n",
      "('Measure:   ', [4, 0.530161344444839, 21.949679198925534])\n",
      "('Measure:   ', [0, -17.51841916481729, 46.939862446276855])\n",
      "('Measure:   ', [2, -46.33145958659207, 3.1268220245020784])\n",
      "('Measure:   ', [4, 17.767762510677112, 30.226044121771256])\n",
      "('Measure:   ', [0, -29.9048418607422, 31.504614066801306])\n",
      "('Measure:   ', [2, -58.009575249633635, -11.60011932209013])\n",
      "('Measure:   ', [3, -29.64790377482765, 40.76155215271585])\n",
      "('Measure:   ', [4, 7.099588799854276, 16.50904472739778])\n",
      "('Measure:   ', [0, -41.07637296710951, 19.8980206959979])\n",
      "('Measure:   ', [2, -72.0392924758715, -26.064898812764085])\n",
      "('Measure:   ', [3, -40.875140397359075, 29.09925326574834])\n",
      "('Measure:   ', [4, -7.792522987592276, 1.1818706755151371])\n",
      "('Measure:   ', [0, -28.702888811359614, 30.454650695804094])\n",
      "('Measure:   ', [2, -56.36986999719504, -12.21233049003133])\n",
      "('Measure:   ', [3, -28.473549562941372, 39.68398994422233])\n",
      "('Measure:   ', [4, 8.10583818553162, 15.263377692695329])\n",
      "('Measure:   ', [0, -9.735034327907247, 44.5922695011149])\n",
      "('Measure:   ', [2, -40.983662241028185, -1.6563584120060368])\n",
      "('Measure:   ', [4, 22.884690428661763, 25.21199425768391])\n",
      "('Measure:   ', [2, -22.435617109792645, 8.017136045992082])\n",
      "('Measure:   ', [4, 40.95202348928487, 34.404776645069596])\n",
      "('Measure:   ', [0, 11.998015774155508, 33.94142351631418])\n",
      "('Measure:   ', [2, -19.776163899370417, -12.832756157211747])\n",
      "('Measure:   ', [3, 10.648331893557398, 41.59173963571607])\n",
      "('Measure:   ', [4, 44.6085755361802, 14.551983278338867])\n",
      "\n",
      "\n",
      "Estimated Poses:\n",
      "[50.000, 50.000]\n",
      "[44.427, 30.934]\n",
      "[41.629, 12.952]\n",
      "[36.225, 32.572]\n",
      "[30.389, 50.695]\n",
      "[25.625, 69.926]\n",
      "[20.887, 89.793]\n",
      "[34.633, 75.060]\n",
      "[48.581, 60.061]\n",
      "[61.346, 42.788]\n",
      "[74.451, 26.574]\n",
      "[89.317, 12.698]\n",
      "[72.583, 5.028]\n",
      "[85.197, 20.091]\n",
      "[98.194, 33.951]\n",
      "[83.481, 21.460]\n",
      "[67.311, 9.254]\n",
      "[49.281, 0.792]\n",
      "[45.571, 20.381]\n",
      "[41.683, 39.999]\n",
      "\n",
      "\n",
      "Estimated Landmarks:\n",
      "[56.186, 52.874]\n",
      "[41.595, 91.337]\n",
      "[26.377, 8.080]\n",
      "[56.570, 62.264]\n",
      "[90.810, 35.527]\n"
     ]
    }
   ],
   "source": [
    "# call your implementation of slam, passing in the necessary parameters\n",
    "mu = slam(data, N, num_landmarks, world_size, motion_noise, measurement_noise)\n",
    "\n",
    "# print out the resulting landmarks and poses\n",
    "if(mu is not None):\n",
    "    # get the lists of poses and landmarks\n",
    "    # and print them out\n",
    "    poses, landmarks = get_poses_landmarks(mu, N)\n",
    "    print_all(poses, landmarks)"
   ]
  },
  {
   "cell_type": "markdown",
   "metadata": {},
   "source": [
    "## Visualize the constructed world\n",
    "\n",
    "Finally, using the `display_world` code from the `helpers.py` file (which was also used in the first notebook), we can actually visualize what you have coded with `slam`: the final position of the robot and the positon of landmarks, created from only motion and measurement data!\n",
    "\n",
    "**Note that these should be very similar to the printed *true* landmark locations and final pose from our call to `make_data` early in this notebook.**"
   ]
  },
  {
   "cell_type": "code",
   "execution_count": 12,
   "metadata": {},
   "outputs": [
    {
     "name": "stdout",
     "output_type": "stream",
     "text": [
      "('Last pose: ', (41.68274383827506, 39.99895700993924))\n"
     ]
    },
    {
     "data": {
      "image/png": "[encoded data removed]",
      "text/plain": [
       "<matplotlib.figure.Figure at 0x1101d4610>"
      ]
     },
     "metadata": {},
     "output_type": "display_data"
    }
   ],
   "source": [
    "# import the helper function\n",
    "from helpers import display_world\n",
    "\n",
    "# Display the final world!\n",
    "\n",
    "# define figure size\n",
    "plt.rcParams[\"figure.figsize\"] = (20,20)\n",
    "\n",
    "# check if poses has been created\n",
    "if 'poses' in locals():\n",
    "    # print out the last pose\n",
    "    print('Last pose: ', poses[-1])\n",
    "    # display the last position of the robot *and* the landmark positions\n",
    "    display_world(int(world_size), poses[-1], landmarks)"
   ]
  },
  {
   "cell_type": "markdown",
   "metadata": {},
   "source": [
    "### Question: How far away is your final pose (as estimated by `slam`) compared to the *true* final pose? Why do you think these poses are different?\n",
    "\n",
    "You can find the true value of the final pose in one of the first cells where `make_data` was called. You may also want to look at the true landmark locations and compare them to those that were estimated by `slam`. Ask yourself: what do you think would happen if we moved and sensed more (increased N)? Or if we had lower/higher noise parameters."
   ]
  },
  {
   "cell_type": "markdown",
   "metadata": {},
   "source": [
    "**Answer**: The final pose as estimated by the Slam implementation is (41.68274383827506, 39.99895700993924) while the true final pose obtained is [x=40.95850 y=41.10328] . These values clearly show that the final pose estimated is pretty much close to the true final pose. With each movement of the robot, we are regulating our prediction with a strength factor for both the measurement and motion."
   ]
  },
  {
   "cell_type": "markdown",
   "metadata": {},
   "source": [
    "## Testing\n",
    "\n",
    "To confirm that your slam code works before submitting your project, it is suggested that you run it on some test data and cases. A few such cases have been provided for you, in the cells below. When you are ready, uncomment the test cases in the next cells (there are two test cases, total); your output should be **close-to or exactly** identical to the given results. If there are minor discrepancies it could be a matter of floating point accuracy or in the calculation of the inverse matrix.\n",
    "\n",
    "### Submit your project\n",
    "\n",
    "If you pass these tests, it is a good indication that your project will pass all the specifications in the project rubric. Follow the submission instructions to officially submit!"
   ]
  },
  {
   "cell_type": "code",
   "execution_count": 28,
   "metadata": {},
   "outputs": [
    {
     "name": "stdout",
     "output_type": "stream",
     "text": [
      "('Row:   ', 50, '   ', 50)\n",
      "('Length:   ', 19, '  ', 20)\n",
      "('Measure:   ', [1, 19.457599255548065, 23.8387362100849])\n",
      "('Measure:   ', [2, -13.195807561967236, 11.708840328458608])\n",
      "('Measure:   ', [3, -30.0954905279171, 15.387879242505843])\n",
      "('Measure:   ', [2, -0.4659930049620491, 28.088559771215664])\n",
      "('Measure:   ', [4, -17.866382374890936, -16.384904503932])\n",
      "('Measure:   ', [4, -6.202512900833806, -1.823403210274639])\n",
      "('Measure:   ', [4, 7.412136480918645, 15.388585962142429])\n",
      "('Measure:   ', [4, -7.526138813444998, -0.4563942429717849])\n",
      "('Measure:   ', [2, -6.299793150150058, 29.047830407717623])\n",
      "('Measure:   ', [4, -21.93551130411791, -13.21956810989039])\n",
      "('Measure:   ', [1, 15.796300959032276, 30.65769689694247])\n",
      "('Measure:   ', [2, -18.64370821983482, 17.380022987031367])\n",
      "('Measure:   ', [1, 0.40311325410337906, 14.169429532679855])\n",
      "('Measure:   ', [2, -35.069349468466235, 2.4945558982439957])\n",
      "('Measure:   ', [1, -16.71340983241936, -2.777000269543834])\n",
      "('Measure:   ', [1, -3.611096830835776, -17.954019226763958])\n",
      "('Measure:   ', [1, 18.398273354362416, -22.705102332550947])\n",
      "('Measure:   ', [2, 2.789312482883833, -39.73720193121324])\n",
      "('Measure:   ', [1, 21.26897046581808, -10.121029799040915])\n",
      "('Measure:   ', [2, -11.917698965880655, -23.17711662602097])\n",
      "('Measure:   ', [3, -31.81167947898398, -16.7985673023331])\n",
      "('Measure:   ', [1, 10.48157743234859, 5.692957082575485])\n",
      "('Measure:   ', [2, -22.31488473554935, -5.389184118551409])\n",
      "('Measure:   ', [3, -40.81803984305378, -2.4703329790238118])\n",
      "('Measure:   ', [0, 10.591050242096598, -39.2051798967113])\n",
      "('Measure:   ', [1, -3.5675572049297553, 22.849456408289125])\n",
      "('Measure:   ', [2, -38.39251065320351, 7.288990306029511])\n",
      "('Measure:   ', [0, -3.6225556479370766, -25.58006865235512])\n",
      "('Measure:   ', [0, 1.9784503557879374, -6.5025974151499])\n",
      "('Measure:   ', [0, 10.050665232782423, 11.026385307998742])\n",
      "('Measure:   ', [0, 26.526838150174818, -0.22563393232425621])\n",
      "('Measure:   ', [4, -33.70303936886652, 2.880339841013677])\n",
      "('Omega:   ', array([[ 3. ,  0. , -0.5, ...,  0. ,  0. ,  0. ],\n",
      "       [ 0. ,  3. ,  0. , ..., -0.5,  0. ,  0. ],\n",
      "       [-0.5,  0. ,  2. , ...,  0. , -0.5,  0. ],\n",
      "       ...,\n",
      "       [ 0. , -0.5,  0. , ...,  1.5,  0. ,  0. ],\n",
      "       [ 0. ,  0. , -0.5, ...,  0. ,  3. ,  0. ],\n",
      "       [ 0. ,  0. ,  0. , ...,  0. ,  0. ,  3. ]]), '   ', 50, '    ', 50)\n",
      "\n",
      "\n",
      "Estimated Poses:\n",
      "[50.000, 50.000]\n",
      "[37.973, 33.652]\n",
      "[26.185, 18.155]\n",
      "[13.745, 2.116]\n",
      "[28.097, 16.783]\n",
      "[42.384, 30.902]\n",
      "[55.831, 44.497]\n",
      "[70.857, 59.699]\n",
      "[85.697, 75.543]\n",
      "[74.011, 92.434]\n",
      "[53.544, 96.454]\n",
      "[34.525, 100.080]\n",
      "[48.623, 83.953]\n",
      "[60.197, 68.107]\n",
      "[73.778, 52.935]\n",
      "[87.132, 38.538]\n",
      "[80.303, 20.508]\n",
      "[72.798, 2.945]\n",
      "[55.245, 13.255]\n",
      "[37.416, 22.317]\n",
      "\n",
      "\n",
      "Estimated Landmarks:\n",
      "[82.956, 13.539]\n",
      "[70.495, 74.141]\n",
      "[36.740, 61.281]\n",
      "[18.698, 66.060]\n",
      "[20.635, 16.875]\n"
     ]
    }
   ],
   "source": [
    "# Here is the data and estimated outputs for test case 1\n",
    "\n",
    "test_data1 = [[[[1, 19.457599255548065, 23.8387362100849], [2, -13.195807561967236, 11.708840328458608], [3, -30.0954905279171, 15.387879242505843]], [-12.2607279422326, -15.801093326936487]], [[[2, -0.4659930049620491, 28.088559771215664], [4, -17.866382374890936, -16.384904503932]], [-12.2607279422326, -15.801093326936487]], [[[4, -6.202512900833806, -1.823403210274639]], [-12.2607279422326, -15.801093326936487]], [[[4, 7.412136480918645, 15.388585962142429]], [14.008259661173426, 14.274756084260822]], [[[4, -7.526138813444998, -0.4563942429717849]], [14.008259661173426, 14.274756084260822]], [[[2, -6.299793150150058, 29.047830407717623], [4, -21.93551130411791, -13.21956810989039]], [14.008259661173426, 14.274756084260822]], [[[1, 15.796300959032276, 30.65769689694247], [2, -18.64370821983482, 17.380022987031367]], [14.008259661173426, 14.274756084260822]], [[[1, 0.40311325410337906, 14.169429532679855], [2, -35.069349468466235, 2.4945558982439957]], [14.008259661173426, 14.274756084260822]], [[[1, -16.71340983241936, -2.777000269543834]], [-11.006096015782283, 16.699276945166858]], [[[1, -3.611096830835776, -17.954019226763958]], [-19.693482634035977, 3.488085684573048]], [[[1, 18.398273354362416, -22.705102332550947]], [-19.693482634035977, 3.488085684573048]], [[[2, 2.789312482883833, -39.73720193121324]], [12.849049222879723, -15.326510824972983]], [[[1, 21.26897046581808, -10.121029799040915], [2, -11.917698965880655, -23.17711662602097], [3, -31.81167947898398, -16.7985673023331]], [12.849049222879723, -15.326510824972983]], [[[1, 10.48157743234859, 5.692957082575485], [2, -22.31488473554935, -5.389184118551409], [3, -40.81803984305378, -2.4703329790238118]], [12.849049222879723, -15.326510824972983]], [[[0, 10.591050242096598, -39.2051798967113], [1, -3.5675572049297553, 22.849456408289125], [2, -38.39251065320351, 7.288990306029511]], [12.849049222879723, -15.326510824972983]], [[[0, -3.6225556479370766, -25.58006865235512]], [-7.8874682868419965, -18.379005523261092]], [[[0, 1.9784503557879374, -6.5025974151499]], [-7.8874682868419965, -18.379005523261092]], [[[0, 10.050665232782423, 11.026385307998742]], [-17.82919359778298, 9.062000642947142]], [[[0, 26.526838150174818, -0.22563393232425621], [4, -33.70303936886652, 2.880339841013677]], [-17.82919359778298, 9.062000642947142]]]\n",
    "\n",
    "##  Test Case 1\n",
    "##\n",
    "# Estimated Pose(s):\n",
    "#     [50.000, 50.000]\n",
    "#     [37.858, 33.921]\n",
    "#     [25.905, 18.268]\n",
    "#     [13.524, 2.224]\n",
    "#     [27.912, 16.886]\n",
    "#     [42.250, 30.994]\n",
    "#     [55.992, 44.886]\n",
    "#     [70.749, 59.867]\n",
    "#     [85.371, 75.230]\n",
    "#     [73.831, 92.354]\n",
    "#     [53.406, 96.465]\n",
    "#     [34.370, 100.134]\n",
    "#     [48.346, 83.952]\n",
    "#     [60.494, 68.338]\n",
    "#     [73.648, 53.082]\n",
    "#     [86.733, 38.197]\n",
    "#     [79.983, 20.324]\n",
    "#     [72.515, 2.837]\n",
    "#     [54.993, 13.221]\n",
    "#     [37.164, 22.283]\n",
    "\n",
    "\n",
    "# Estimated Landmarks:\n",
    "#     [82.679, 13.435]\n",
    "#     [70.417, 74.203]\n",
    "#     [36.688, 61.431]\n",
    "#     [18.705, 66.136]\n",
    "#     [20.437, 16.983]\n",
    "\n",
    "\n",
    "### Uncomment the following three lines for test case 1 and compare the output to the values above ###\n",
    "\n",
    "mu_1 = slam(test_data1, 20, 5, 100.0, 2.0, 2.0)\n",
    "poses, landmarks = get_poses_landmarks(mu_1, 20)\n",
    "print_all(poses, landmarks)"
   ]
  },
  {
   "cell_type": "code",
   "execution_count": 29,
   "metadata": {},
   "outputs": [
    {
     "name": "stdout",
     "output_type": "stream",
     "text": [
      "('Row:   ', 50, '   ', 50)\n",
      "('Length:   ', 19, '  ', 20)\n",
      "('Measure:   ', [0, 26.543274387283322, -6.262538160312672])\n",
      "('Measure:   ', [3, 9.937396825799755, -9.128540360867689])\n",
      "('Measure:   ', [0, 7.706544739722961, -3.758467215445748])\n",
      "('Measure:   ', [1, 17.03954411948937, 31.705489938553438])\n",
      "('Measure:   ', [3, -11.61731288777497, -6.64964096716416])\n",
      "('Measure:   ', [0, -12.35130507136378, 2.585119104239249])\n",
      "('Measure:   ', [1, -2.563534536165313, 38.22159657838369])\n",
      "('Measure:   ', [3, -26.961236804740935, -0.4802312626141525])\n",
      "('Measure:   ', [0, 1.4138633151721272, -13.912454837810632])\n",
      "('Measure:   ', [1, 8.087721200818589, 20.51845934354381])\n",
      "('Measure:   ', [3, -17.091723454402302, -16.521500551709707])\n",
      "('Measure:   ', [4, -7.414211721400232, 38.09191602674439])\n",
      "('Measure:   ', [0, 12.886743222179561, -28.703968411636318])\n",
      "('Measure:   ', [1, 21.660953298391387, 3.4912891084614914])\n",
      "('Measure:   ', [3, -6.401401414569506, -32.321583037341625])\n",
      "('Measure:   ', [4, 5.034079343639034, 23.102207946092893])\n",
      "('Measure:   ', [1, 31.126317672358578, -10.036784369535214])\n",
      "('Measure:   ', [2, -38.70878528420893, 7.4987265861424595])\n",
      "('Measure:   ', [4, 17.977218575473767, 6.150889254289742])\n",
      "('Measure:   ', [1, 41.82460922922086, 7.847527392202475])\n",
      "('Measure:   ', [3, 15.711709540417502, -30.34633659912818])\n",
      "('Measure:   ', [0, 40.18454208294434, -6.710999804403755])\n",
      "('Measure:   ', [3, 23.019508919299156, -10.12110867290604])\n",
      "('Measure:   ', [3, 27.18579315312821, 8.067219022708391])\n",
      "('Measure:   ', [3, 24.57154567653098, 13.461499960708197])\n",
      "('Measure:   ', [0, 31.61945290413707, 0.4272295085799329])\n",
      "('Measure:   ', [3, 16.97392299158991, -5.274596836133088])\n",
      "('Measure:   ', [0, 22.407381798735177, -18.03500068379259])\n",
      "('Measure:   ', [1, 29.642444125196995, 17.3794951934614])\n",
      "('Measure:   ', [3, 4.7969752441371645, -21.07505361639969])\n",
      "('Measure:   ', [4, 14.726069092569372, 32.75999422300078])\n",
      "('Measure:   ', [0, 10.705527984670137, -34.589764174299596])\n",
      "('Measure:   ', [1, 18.58772336795603, -0.20109708164787765])\n",
      "('Measure:   ', [3, -4.839806195049413, -39.92208742305105])\n",
      "('Measure:   ', [4, 4.18824810165454, 14.146847823548889])\n",
      "('Measure:   ', [1, 5.878492140223764, -19.955352450942357])\n",
      "('Measure:   ', [4, -7.059505455306587, -0.9740849280550585])\n",
      "('Measure:   ', [1, -11.150789592446378, -22.736641053247872])\n",
      "('Measure:   ', [4, -28.832815721158255, -3.9462962046291388])\n",
      "('Measure:   ', [1, 8.64427397916182, -20.286336970889053])\n",
      "('Measure:   ', [4, -5.036917727942285, -6.311739993868336])\n",
      "('Measure:   ', [0, 7.151866679283043, -39.56103232616369])\n",
      "('Measure:   ', [1, 16.01535401373368, -3.780995345194027])\n",
      "('Measure:   ', [4, -3.04801331832137, 13.697362774960865])\n",
      "('Measure:   ', [0, 12.872879480504395, -19.707592098123207])\n",
      "('Measure:   ', [1, 22.236710716903136, 16.331770792606406])\n",
      "('Measure:   ', [3, -4.841206109583004, -21.24604435851242])\n",
      "('Measure:   ', [4, 4.27111163223552, 32.25309748614184])\n",
      "('Omega:   ', array([[ 2.5,  0. , -0.5, ...,  0. ,  0. ,  0. ],\n",
      "       [ 0. ,  2.5,  0. , ..., -0.5,  0. ,  0. ],\n",
      "       [-0.5,  0. ,  2.5, ...,  0. ,  0. ,  0. ],\n",
      "       ...,\n",
      "       [ 0. , -0.5,  0. , ...,  6.5,  0. ,  0. ],\n",
      "       [ 0. ,  0. ,  0. , ...,  0. ,  5. ,  0. ],\n",
      "       [ 0. ,  0. ,  0. , ...,  0. ,  0. ,  5. ]]), '   ', 50, '    ', 50)\n",
      "\n",
      "\n",
      "Estimated Poses:\n",
      "[50.000, 50.000]\n",
      "[69.181, 45.666]\n",
      "[87.743, 39.704]\n",
      "[76.270, 56.311]\n",
      "[64.318, 72.177]\n",
      "[52.266, 88.161]\n",
      "[44.094, 69.429]\n",
      "[37.129, 50.019]\n",
      "[31.399, 31.334]\n",
      "[33.847, 30.077]\n",
      "[33.709, 26.757]\n",
      "[44.032, 43.748]\n",
      "[54.785, 60.904]\n",
      "[65.694, 78.543]\n",
      "[77.467, 95.626]\n",
      "[96.801, 98.821]\n",
      "[75.956, 99.971]\n",
      "[70.199, 81.180]\n",
      "[64.053, 61.723]\n",
      "[58.107, 42.627]\n",
      "\n",
      "\n",
      "Estimated Landmarks:\n",
      "[76.777, 42.886]\n",
      "[85.066, 77.439]\n",
      "[13.557, 95.659]\n",
      "[59.450, 39.597]\n",
      "[69.262, 94.239]\n"
     ]
    }
   ],
   "source": [
    "# Here is the data and estimated outputs for test case 2\n",
    "\n",
    "test_data2 = [[[[0, 26.543274387283322, -6.262538160312672], [3, 9.937396825799755, -9.128540360867689]], [18.92765331253674, -6.460955043986683]], [[[0, 7.706544739722961, -3.758467215445748], [1, 17.03954411948937, 31.705489938553438], [3, -11.61731288777497, -6.64964096716416]], [18.92765331253674, -6.460955043986683]], [[[0, -12.35130507136378, 2.585119104239249], [1, -2.563534536165313, 38.22159657838369], [3, -26.961236804740935, -0.4802312626141525]], [-11.167066095509824, 16.592065417497455]], [[[0, 1.4138633151721272, -13.912454837810632], [1, 8.087721200818589, 20.51845934354381], [3, -17.091723454402302, -16.521500551709707], [4, -7.414211721400232, 38.09191602674439]], [-11.167066095509824, 16.592065417497455]], [[[0, 12.886743222179561, -28.703968411636318], [1, 21.660953298391387, 3.4912891084614914], [3, -6.401401414569506, -32.321583037341625], [4, 5.034079343639034, 23.102207946092893]], [-11.167066095509824, 16.592065417497455]], [[[1, 31.126317672358578, -10.036784369535214], [2, -38.70878528420893, 7.4987265861424595], [4, 17.977218575473767, 6.150889254289742]], [-6.595520680493778, -18.88118393939265]], [[[1, 41.82460922922086, 7.847527392202475], [3, 15.711709540417502, -30.34633659912818]], [-6.595520680493778, -18.88118393939265]], [[[0, 40.18454208294434, -6.710999804403755], [3, 23.019508919299156, -10.12110867290604]], [-6.595520680493778, -18.88118393939265]], [[[3, 27.18579315312821, 8.067219022708391]], [-6.595520680493778, -18.88118393939265]], [[], [11.492663265706092, 16.36822198838621]], [[[3, 24.57154567653098, 13.461499960708197]], [11.492663265706092, 16.36822198838621]], [[[0, 31.61945290413707, 0.4272295085799329], [3, 16.97392299158991, -5.274596836133088]], [11.492663265706092, 16.36822198838621]], [[[0, 22.407381798735177, -18.03500068379259], [1, 29.642444125196995, 17.3794951934614], [3, 4.7969752441371645, -21.07505361639969], [4, 14.726069092569372, 32.75999422300078]], [11.492663265706092, 16.36822198838621]], [[[0, 10.705527984670137, -34.589764174299596], [1, 18.58772336795603, -0.20109708164787765], [3, -4.839806195049413, -39.92208742305105], [4, 4.18824810165454, 14.146847823548889]], [11.492663265706092, 16.36822198838621]], [[[1, 5.878492140223764, -19.955352450942357], [4, -7.059505455306587, -0.9740849280550585]], [19.628527845173146, 3.83678180657467]], [[[1, -11.150789592446378, -22.736641053247872], [4, -28.832815721158255, -3.9462962046291388]], [-19.841703647091965, 2.5113335861604362]], [[[1, 8.64427397916182, -20.286336970889053], [4, -5.036917727942285, -6.311739993868336]], [-5.946642674882207, -19.09548221169787]], [[[0, 7.151866679283043, -39.56103232616369], [1, 16.01535401373368, -3.780995345194027], [4, -3.04801331832137, 13.697362774960865]], [-5.946642674882207, -19.09548221169787]], [[[0, 12.872879480504395, -19.707592098123207], [1, 22.236710716903136, 16.331770792606406], [3, -4.841206109583004, -21.24604435851242], [4, 4.27111163223552, 32.25309748614184]], [-5.946642674882207, -19.09548221169787]]] \n",
    "\n",
    "\n",
    "##  Test Case 2\n",
    "##\n",
    "# Estimated Pose(s):\n",
    "#     [50.000, 50.000]\n",
    "#     [69.035, 45.061]\n",
    "#     [87.655, 38.971]\n",
    "#     [76.084, 55.541]\n",
    "#     [64.283, 71.684]\n",
    "#     [52.396, 87.887]\n",
    "#     [44.674, 68.948]\n",
    "#     [37.532, 49.680]\n",
    "#     [31.392, 30.893]\n",
    "#     [24.796, 12.012]\n",
    "#     [33.641, 26.440]\n",
    "#     [43.858, 43.560]\n",
    "#     [54.735, 60.659]\n",
    "#     [65.884, 77.791]\n",
    "#     [77.413, 94.554]\n",
    "#     [96.740, 98.020]\n",
    "#     [76.149, 99.586]\n",
    "#     [70.211, 80.580]\n",
    "#     [64.130, 61.270]\n",
    "#     [58.183, 42.175]\n",
    "\n",
    "\n",
    "# Estimated Landmarks:\n",
    "#     [76.777, 42.415]\n",
    "#     [85.109, 76.850]\n",
    "#     [13.687, 95.386]\n",
    "#     [59.488, 39.149]\n",
    "#     [69.283, 93.654]\n",
    "\n",
    "\n",
    "### Uncomment the following three lines for test case 2 and compare to the values above ###\n",
    "\n",
    "mu_2 = slam(test_data2, 20, 5, 100.0, 2.0, 2.0)\n",
    "poses, landmarks = get_poses_landmarks(mu_2, 20)\n",
    "print_all(poses, landmarks)\n"
   ]
  },
  {
   "cell_type": "code",
   "execution_count": null,
   "metadata": {},
   "outputs": [],
   "source": []
  }
 ],
 "metadata": {
  "kernelspec": {
   "display_name": "Python 3",
   "language": "python",
   "name": "python3"
  },
  "language_info": {
   "codemirror_mode": {
    "name": "ipython",
    "version": 3
   },
   "file_extension": ".py",
   "mimetype": "text/x-python",
   "name": "python",
   "nbconvert_exporter": "python",
   "pygments_lexer": "ipython3",
   "version": "3.6.4"
  }
 },
 "nbformat": 4,
 "nbformat_minor": 2
}
